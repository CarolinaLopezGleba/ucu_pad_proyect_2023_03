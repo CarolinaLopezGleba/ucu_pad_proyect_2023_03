{
 "cells": [
  {
   "cell_type": "markdown",
   "metadata": {},
   "source": [
    "# Proyecto 3- Carolina López \n",
    "El proyecto que se presenta a continuación tiene como objetivo analizar los datos del servicio postal en Uruguay durante el periodo de la pandemia de COVID-19, con el fin de comparar las tendencias observadas con el servicio postal de un país de América Latina y otro de Europa. Esto se lleva a cabo con el propósito de determinar si los patrones observados en Uruguay durante el período comprendido entre 2018 y 2021, que incluye el año en que se originó la pandemia en 2019, se replicaron en los países seleccionados para el estudio. Los patrones de estudio fueron elegidos en razon de el interés de obtener esa información.\n"
   ]
  },
  {
   "cell_type": "markdown",
   "metadata": {},
   "source": [
    "## Análisis de Datos de el correo postal de Uruguay "
   ]
  },
  {
   "cell_type": "code",
   "execution_count": 145,
   "metadata": {},
   "outputs": [
    {
     "name": "stdout",
     "output_type": "stream",
     "text": [
      "      Cartas nacionales  Cartas internacionales salientes  \\\n",
      "Año                                                         \n",
      "2018           93353275                           1929488   \n",
      "2019           97023646                           1557192   \n",
      "2020           85125778                            839433   \n",
      "2021           79478006                            258616   \n",
      "2022           73044817                            298636   \n",
      "2023           40224187                            118261   \n",
      "\n",
      "      Cartas internacionales entrantes  Cartas totales  Paquetes nacionales  \\\n",
      "Año                                                                           \n",
      "2018                            478080        95760843              5512441   \n",
      "2019                            506354        99087192              6077951   \n",
      "2020                            329905        86295116              7500007   \n",
      "2021                            674803        80411425              9713726   \n",
      "2022                            547445        73890798             10843275   \n",
      "2023                            266701        40609149              6946188   \n",
      "\n",
      "      Paquetes internacionales salientes  Paquetes internacionales entrantes  \\\n",
      "Año                                                                            \n",
      "2018                               44630                              229600   \n",
      "2019                               57306                              243605   \n",
      "2020                               43172                              222291   \n",
      "2021                               80409                              271065   \n",
      "2022                               76473                              297422   \n",
      "2023                               46371                              251965   \n",
      "\n",
      "      Paquetes totales  \n",
      "Año                     \n",
      "2018           5786671  \n",
      "2019           6378862  \n",
      "2020           7765470  \n",
      "2021          10065200  \n",
      "2022          11217170  \n",
      "2023           7244524  \n"
     ]
    }
   ],
   "source": [
    "import pandas as pd\n",
    "import re\n",
    "import matplotlib.pyplot as plt\n",
    "\n",
    "# Leer el archivo CSV que contiene los datos estadisticos de el correo postal de Uruguay\n",
    "archivo_csv = 'envios-postales.csv' \n",
    "df = pd.read_csv(archivo_csv)\n",
    "\n",
    "#Convertir la columna 'Fecha' a tipo fecha\n",
    "df['Fecha'] = pd.to_datetime(df['Fecha'])\n",
    "\n",
    "#Extraer el año de la columna 'Fecha'\n",
    "df['Año'] = df['Fecha'].dt.year\n",
    "\n",
    "#Sumar las columnas en virtud de el año \n",
    "columnas_a_sumar = ['Cartas nacionales', 'Cartas internacionales salientes', 'Cartas internacionales entrantes',\n",
    "                    'Cartas totales', 'Paquetes nacionales', 'Paquetes internacionales salientes',\n",
    "                     'Paquetes internacionales entrantes', 'Paquetes totales']\n",
    "\n",
    "df_agrupadouy = df.groupby('Año')[columnas_a_sumar].sum()\n",
    "\n",
    "#Mostrar el DataFrame resultante\n",
    "print(df_agrupadouy)"
   ]
  },
  {
   "cell_type": "markdown",
   "metadata": {},
   "source": [
    "### Limpieza de datos del dataframe de estadísticas de correo postal de Uruguay\n",
    "En este apartado de codigos se seleccionaran los patrones de estudio que corresponden con Cartas Nacionales, Paquetes Entrantes y Paquetes Salientes."
   ]
  },
  {
   "cell_type": "code",
   "execution_count": 146,
   "metadata": {},
   "outputs": [
    {
     "name": "stdout",
     "output_type": "stream",
     "text": [
      "      Cartas nacionales  Paquetes internacionales salientes  \\\n",
      "Año                                                           \n",
      "2018           93353275                               44630   \n",
      "2019           97023646                               57306   \n",
      "2020           85125778                               43172   \n",
      "2021           79478006                               80409   \n",
      "2022           73044817                               76473   \n",
      "2023           40224187                               46371   \n",
      "\n",
      "      Paquetes internacionales entrantes  \n",
      "Año                                       \n",
      "2018                              229600  \n",
      "2019                              243605  \n",
      "2020                              222291  \n",
      "2021                              271065  \n",
      "2022                              297422  \n",
      "2023                              251965  \n"
     ]
    }
   ],
   "source": [
    "# Eliminar columnas que no se utilizarán\n",
    "columnas_a_eliminar = ['Cartas internacionales salientes', 'Cartas internacionales entrantes', 'Cartas totales', 'Paquetes nacionales', 'Paquetes totales']\n",
    "df_agrupadouy = df_agrupadouy.drop(columns=columnas_a_eliminar)\n",
    "\n",
    "# Mostrar el DataFrame resultante\n",
    "print(df_agrupadouy)"
   ]
  },
  {
   "cell_type": "markdown",
   "metadata": {},
   "source": [
    "### Generar un Dataframe a partir de el resultado obtenido anteriormente"
   ]
  },
  {
   "cell_type": "code",
   "execution_count": 147,
   "metadata": {},
   "outputs": [
    {
     "name": "stdout",
     "output_type": "stream",
     "text": [
      "   Años  Cartas nacionales  Paquetes internacionales salientes  \\\n",
      "0  2018           93353275                               44630   \n",
      "1  2019           97023646                               57306   \n",
      "2  2020           85125778                               43172   \n",
      "\n",
      "   Paquetes internacionales entrantes  \n",
      "0                              229600  \n",
      "1                              243605  \n",
      "2                              222291  \n"
     ]
    }
   ],
   "source": [
    "# Definición de el dataframe \n",
    "data = {\n",
    "    'Años': [2018, 2019, 2020],\n",
    "    'Cartas nacionales': [93353275,97023646,85125778],\n",
    "    'Paquetes internacionales salientes': [44630,57306,43172],\n",
    "    'Paquetes internacionales entrantes': [229600,243605,222291],\n",
    "}\n",
    "df_uy = pd.DataFrame(data)\n",
    "\n",
    "#Dataframe de Uruguay con los datos de estadisticas de el correo postal obtenidos \n",
    "print(df_uy)"
   ]
  },
  {
   "cell_type": "markdown",
   "metadata": {},
   "source": [
    "## Análisis de Datos de el correo postal de Italia y Colombia"
   ]
  },
  {
   "cell_type": "markdown",
   "metadata": {},
   "source": [
    "### Paquetes internacionales salientes "
   ]
  },
  {
   "cell_type": "code",
   "execution_count": 148,
   "metadata": {},
   "outputs": [
    {
     "name": "stdout",
     "output_type": "stream",
     "text": [
      " Número de paquetes, servicio internacional - despacho\n"
     ]
    }
   ],
   "source": [
    "# Directorio que contiene los archivos HTML\n",
    "archivos_html = ['Italia.html']\n",
    "\n",
    "# Patrón regular para buscar el texto\n",
    "patron_texto = r'Número de paquetes, servicio internacional - despacho'\n",
    "\n",
    "# Función para buscar el patrón en un archivo HTML\n",
    "def buscar_patron_en_archivo(archivo, patron):\n",
    "    with open(archivo, 'r', encoding='utf-8') as file:\n",
    "        contenido = file.read()\n",
    "        coincidencias = re.findall(patron, contenido)\n",
    "        return coincidencias\n",
    "\n",
    "# Bucle a través de los archivos y buscar el patrón\n",
    "for archivo in archivos_html:\n",
    "    coincidencias = buscar_patron_en_archivo(archivo, patron_texto)\n",
    "    if coincidencias:\n",
    "        for i, coincidencia in enumerate(coincidencias, start=1):\n",
    "            print(f' {coincidencia}')\n",
    "    else:\n",
    "        print(f'No se encontraron coincidencias en {archivo}')"
   ]
  },
  {
   "cell_type": "code",
   "execution_count": 149,
   "metadata": {},
   "outputs": [
    {
     "name": "stdout",
     "output_type": "stream",
     "text": [
      "   Años Número de paquetes, servicio internacional - despacho Italia\n",
      "0  2017                                             316317          \n",
      "1  2018                                             342724          \n",
      "2  2019                                             328928          \n",
      "3  2020                                             263280          \n",
      "4  2021                                                 NA          \n"
     ]
    }
   ],
   "source": [
    "# Directorio que contiene los archivos HTML\n",
    "archivos_html = ['Italia.html']\n",
    "\n",
    "# Expresión regular para buscar años en el texto\n",
    "expresion_regular_anios = r'Años:\\s*(\\d{4}(?:,\\s*\\d{4})*)'\n",
    "\n",
    "# Expresión regular para encontrar las secciones de interés\n",
    "expresión_regular_numeros = r'Número de paquetes, servicio internacional - despacho(.*?)<tr valign=\"top\">'\n",
    "\n",
    "# Listas para almacenar los años, los números y el nombre del archivo\n",
    "anios_lista = []\n",
    "numeros_lista = []\n",
    "archivo_lista = []\n",
    "\n",
    "# Bucle para procesar cada archivo\n",
    "for nombre_archivo in archivos_html:\n",
    "    with open(nombre_archivo, 'r', encoding='utf-8') as archivo:\n",
    "        contenido = archivo.read()\n",
    "\n",
    "    # Buscar los años en el contenido del archivo\n",
    "    anios_encontrados = re.search(expresion_regular_anios, contenido)\n",
    "\n",
    "    if anios_encontrados:\n",
    "        anios_str = anios_encontrados.group(1)\n",
    "        anios_lista = anios_str.split(', ')\n",
    "    else:\n",
    "        print(f\"No se encontraron años en el archivo {nombre_archivo}.\")\n",
    "\n",
    "    # Buscar las secciones de interés en el contenido del archivo\n",
    "    secciones = re.findall(expresión_regular_numeros, contenido, re.DOTALL)\n",
    "\n",
    "    for seccion in secciones:\n",
    "        # Dividir la sección en líneas\n",
    "        lineas = seccion.split('\\n')\n",
    "        for linea in lineas:\n",
    "            numeros = re.findall(r\"(\\d{1,3}(?:'\\d{3})*)\", linea)\n",
    "            if numeros:\n",
    "                for numero in numeros:\n",
    "                    numero_sin_comas = numero.replace(\"'\", '')\n",
    "                    numeros_lista.append(numero_sin_comas)\n",
    "                    archivo_lista.append(nombre_archivo)\n",
    "            else:\n",
    "                numeros_lista.append(\"NA\")\n",
    "                archivo_lista.append(nombre_archivo)\n",
    "\n",
    "# Excluir el primer elemento y los últimos dos elementos de la lista de números\n",
    "numeros_lista = numeros_lista[1:-2]\n",
    "archivo_lista = archivo_lista[1:-2]\n",
    "\n",
    "# Asegurarse de que ambas listas tengan la misma longitud rellenando con NaN si es necesario\n",
    "max_length = max(len(anios_lista), len(numeros_lista), len(archivo_lista))\n",
    "anios_lista.extend(['NA'] * (max_length - len(anios_lista)))\n",
    "numeros_lista.extend(['NA'] * (max_length - len(numeros_lista)))\n",
    "archivo_lista.extend(['NA'] * (max_length - len(archivo_lista)))\n",
    "\n",
    "# Crear un DataFrame a partir de las listas de años, números y archivos\n",
    "df4 = pd.DataFrame({'Años': anios_lista, 'Número de paquetes, servicio internacional - despacho Italia': numeros_lista})\n",
    "\n",
    "# Mostrar el DataFrame\n",
    "print(df4)"
   ]
  },
  {
   "cell_type": "code",
   "execution_count": 150,
   "metadata": {},
   "outputs": [
    {
     "name": "stdout",
     "output_type": "stream",
     "text": [
      " 10.5 Number of parcels, international service - dispatch\n"
     ]
    }
   ],
   "source": [
    "# Directorio que contiene los archivos HTML de Colombia \n",
    "archivos_html = ['Colombia.html']\n",
    "\n",
    "# Patrón regular para buscar el texto los paquetes salientes de Colombia\n",
    "patron_texto = r'10.5 Number of parcels, international service - dispatch'\n",
    "\n",
    "# Función para buscar el patrón en un archivo HTML\n",
    "def buscar_patron_en_archivo(archivo, patron):\n",
    "    with open(archivo, 'r', encoding='utf-8') as file:\n",
    "        contenido = file.read()\n",
    "        coincidencias = re.findall(patron, contenido)\n",
    "        return coincidencias\n",
    "\n",
    "# Bucle a través de los archivos y buscar el patrón\n",
    "for archivo in archivos_html:\n",
    "    coincidencias = buscar_patron_en_archivo(archivo, patron_texto)\n",
    "    if coincidencias:\n",
    "        for i, coincidencia in enumerate(coincidencias, start=1):\n",
    "            print(f' {coincidencia}')\n",
    "    else:\n",
    "        print(f'No se encontraron coincidencias en {archivo}')"
   ]
  },
  {
   "cell_type": "code",
   "execution_count": 151,
   "metadata": {},
   "outputs": [
    {
     "name": "stdout",
     "output_type": "stream",
     "text": [
      "  Number of parcels, international service - dispatch Colombia\n",
      "0                                             176473          \n",
      "1                                              21008          \n",
      "2                                              13747          \n",
      "3                                              44529          \n",
      "4                                              56531          \n"
     ]
    }
   ],
   "source": [
    "# Directorio que contiene los archivos HTML\n",
    "archivos_html = ['Colombia.html']\n",
    "\n",
    "# Expresión regular para buscar años en el texto\n",
    "expresion_regular_anios = r'Años:\\s*(\\d{4}(?:,\\s*\\d{4})*)'\n",
    "\n",
    "# Expresión regular para encontrar las secciones de interés\n",
    "expresión_regular_numeros = r'10.5 Number of parcels, international service - dispatch(.*?)<tr valign=\"top\">'\n",
    "\n",
    "# Listas para almacenar los años, los números y el nombre del archivo\n",
    "anios_lista = []\n",
    "numeros_lista = []\n",
    "archivo_lista = []\n",
    "\n",
    "# Bucle para procesar cada archivo\n",
    "for nombre_archivo in archivos_html:\n",
    "    with open(nombre_archivo, 'r', encoding='utf-8') as archivo:\n",
    "        contenido = archivo.read()\n",
    "\n",
    "    # Buscar las secciones de interés en el contenido del archivo\n",
    "    secciones = re.findall(expresión_regular_numeros, contenido, re.DOTALL)\n",
    "\n",
    "    for seccion in secciones:\n",
    "        # Dividir la sección en líneas\n",
    "        lineas = seccion.split('\\n')\n",
    "        for linea in lineas:\n",
    "            numeros = re.findall(r\"(\\d{1,3}(?:'\\d{3})*)\", linea)\n",
    "            if numeros:\n",
    "                for numero in numeros:\n",
    "                    numero_sin_comas = numero.replace(\"'\", '')\n",
    "                    numeros_lista.append(numero_sin_comas)\n",
    "                    archivo_lista.append(nombre_archivo)\n",
    "            else:\n",
    "                numeros_lista.append(\"NA\")\n",
    "                archivo_lista.append(nombre_archivo)\n",
    "\n",
    "# Excluir el primer elemento y los últimos dos elementos de la lista de números\n",
    "numeros_lista = numeros_lista[1:-2]\n",
    "archivo_lista = archivo_lista[1:-2]\n",
    "\n",
    "# Asegurarse de que ambas listas tengan la misma longitud rellenando con NaN si es necesario\n",
    "max_length = max(len(anios_lista), len(numeros_lista), len(archivo_lista))\n",
    "anios_lista.extend(['NA'] * (max_length - len(anios_lista)))\n",
    "numeros_lista.extend(['NA'] * (max_length - len(numeros_lista)))\n",
    "archivo_lista.extend(['NA'] * (max_length - len(archivo_lista)))\n",
    "\n",
    "# Crear un DataFrame a partir de las listas de años, números y archivos\n",
    "df3 = pd.DataFrame({'Number of parcels, international service - dispatch Colombia': numeros_lista})\n",
    "\n",
    "# Mostrar el DataFrame\n",
    "print(df3)"
   ]
  },
  {
   "cell_type": "markdown",
   "metadata": {},
   "source": [
    "### Paquetes internacionales entrantes "
   ]
  },
  {
   "cell_type": "code",
   "execution_count": 152,
   "metadata": {},
   "outputs": [
    {
     "name": "stdout",
     "output_type": "stream",
     "text": [
      " Número de paquetes, servicio internacional - recibo\n"
     ]
    }
   ],
   "source": [
    "# Directorio que contiene los archivos HTML\n",
    "archivos_html = ['Italia.html']\n",
    "\n",
    "# Patrón regular para buscar el texto\n",
    "patron_texto = r'Número de paquetes, servicio internacional - recibo'\n",
    "\n",
    "# Función para buscar el patrón en un archivo HTML\n",
    "def buscar_patron_en_archivo(archivo, patron):\n",
    "    with open(archivo, 'r', encoding='utf-8') as file:\n",
    "        contenido = file.read()\n",
    "        coincidencias = re.findall(patron, contenido)\n",
    "        return coincidencias\n",
    "\n",
    "# Bucle a través de los archivos y buscar el patrón\n",
    "for archivo in archivos_html:\n",
    "    coincidencias = buscar_patron_en_archivo(archivo, patron_texto)\n",
    "    if coincidencias:\n",
    "        for i, coincidencia in enumerate(coincidencias, start=1):\n",
    "            print(f' {coincidencia}')\n",
    "    else:\n",
    "        print(f'No se encontraron coincidencias en {archivo}')"
   ]
  },
  {
   "cell_type": "code",
   "execution_count": 153,
   "metadata": {},
   "outputs": [
    {
     "name": "stdout",
     "output_type": "stream",
     "text": [
      "  Número de paquetes, servicio internacional - recibo Italia\n",
      "0                                             379540        \n",
      "1                                             336313        \n",
      "2                                             327314        \n",
      "3                                             305400        \n",
      "4                                                 NA        \n"
     ]
    }
   ],
   "source": [
    "# Directorio que contiene los archivos HTML\n",
    "archivos_html = ['Italia.html']\n",
    "\n",
    "# Expresión regular para buscar años en el texto\n",
    "expresion_regular_anios = r'Años:\\s*(\\d{4}(?:,\\s*\\d{4})*)'\n",
    "\n",
    "# Expresión regular para encontrar las secciones de interés\n",
    "expresión_regular_numeros = r'Número de paquetes, servicio internacional - recibo(.*?)<tr valign=\"top&quot;\">'\n",
    "\n",
    "# Listas para almacenar los años, los números y el nombre del archivo\n",
    "anios_lista = []\n",
    "numeros_lista = []\n",
    "archivo_lista = []\n",
    "\n",
    "# Bucle para procesar cada archivo\n",
    "for nombre_archivo in archivos_html:\n",
    "    with open(nombre_archivo, 'r', encoding='utf-8') as archivo:\n",
    "        contenido = archivo.read()\n",
    "\n",
    "    # Buscar los años en el contenido del archivo\n",
    "    anios_encontrados = re.search(expresion_regular_anios, contenido)\n",
    "\n",
    "    if anios_encontrados:\n",
    "        anios_str = anios_encontrados.group(1)\n",
    "        anios_lista = anios_str.split(', ')\n",
    "    else:\n",
    "        print(f\"No se encontraron años en el archivo {nombre_archivo}.\")\n",
    "\n",
    "    # Buscar las secciones de interés en el contenido del archivo\n",
    "    secciones = re.findall(expresión_regular_numeros, contenido, re.DOTALL)\n",
    "\n",
    "    for seccion in secciones:\n",
    "        # Dividir la sección en líneas\n",
    "        lineas = seccion.split('\\n')\n",
    "        for linea in lineas:\n",
    "            numeros = re.findall(r\"(\\d{1,3}(?:'\\d{3})*)\", linea)\n",
    "            if numeros:\n",
    "                for numero in numeros:\n",
    "                    numero_sin_comas = numero.replace(\"'\", '')\n",
    "                    numeros_lista.append(numero_sin_comas)\n",
    "                    archivo_lista.append(nombre_archivo)\n",
    "            else:\n",
    "                numeros_lista.append(\"NA\")\n",
    "                archivo_lista.append(nombre_archivo)\n",
    "\n",
    "# Excluir el primer elemento y los últimos dos elementos de la lista de números\n",
    "numeros_lista = numeros_lista[1:-2]\n",
    "archivo_lista = archivo_lista[1:-2]\n",
    "\n",
    "# Asegurarse de que ambas listas tengan la misma longitud rellenando con NaN si es necesario\n",
    "max_length = max(len(anios_lista), len(numeros_lista), len(archivo_lista))\n",
    "anios_lista.extend(['NA'] * (max_length - len(anios_lista)))\n",
    "numeros_lista.extend(['NA'] * (max_length - len(numeros_lista)))\n",
    "archivo_lista.extend(['NA'] * (max_length - len(archivo_lista)))\n",
    "\n",
    "# Crear un DataFrame a partir de las listas de años, números y archivos\n",
    "df6 = pd.DataFrame({'Número de paquetes, servicio internacional - recibo Italia': numeros_lista})\n",
    "\n",
    "# Mostrar el DataFrame\n",
    "print(df6)"
   ]
  },
  {
   "cell_type": "code",
   "execution_count": 154,
   "metadata": {},
   "outputs": [
    {
     "name": "stdout",
     "output_type": "stream",
     "text": [
      " Number of parcels, international service - receipt\n"
     ]
    }
   ],
   "source": [
    "# Directorio que contiene los archivos HTML\n",
    "archivos_html = ['Colombia.html']\n",
    "\n",
    "# Patrón regular para buscar el texto\n",
    "patron_texto = r'Number of parcels, international service - receipt'\n",
    "\n",
    "# Función para buscar el patrón en un archivo HTML\n",
    "def buscar_patron_en_archivo(archivo, patron):\n",
    "    with open(archivo, 'r', encoding='utf-8') as file:\n",
    "        contenido = file.read()\n",
    "        coincidencias = re.findall(patron, contenido)\n",
    "        return coincidencias\n",
    "\n",
    "# Bucle a través de los archivos y buscar el patrón\n",
    "for archivo in archivos_html:\n",
    "    coincidencias = buscar_patron_en_archivo(archivo, patron_texto)\n",
    "    if coincidencias:\n",
    "        for i, coincidencia in enumerate(coincidencias, start=1):\n",
    "            print(f' {coincidencia}')\n",
    "    else:\n",
    "        print(f'No se encontraron coincidencias en {archivo}')"
   ]
  },
  {
   "cell_type": "code",
   "execution_count": 155,
   "metadata": {},
   "outputs": [
    {
     "name": "stdout",
     "output_type": "stream",
     "text": [
      "  Number of parcels, international service - receipt Colombia\n",
      "0                                              26760         \n",
      "1                                              71892         \n",
      "2                                              67463         \n",
      "3                                              63426         \n",
      "4                                               7506         \n"
     ]
    }
   ],
   "source": [
    "# Directorio que contiene los archivos HTML\n",
    "archivos_html = ['Colombia.html']\n",
    "\n",
    "# Expresión regular para encontrar las secciones de interés\n",
    "expresión_regular_numeros = r'Number of parcels, international service - receipt(.*?)<tr valign=\"top&quot;\">'\n",
    "\n",
    "# Listas para almacenar  los números y el nombre del archivo\n",
    "numeros_lista = []\n",
    "archivo_lista = []\n",
    "\n",
    "# Bucle para procesar cada archivo\n",
    "for nombre_archivo in archivos_html:\n",
    "    with open(nombre_archivo, 'r', encoding='utf-8') as archivo:\n",
    "        contenido = archivo.read()\n",
    "    # Buscar las secciones de interés en el contenido del archivo\n",
    "    secciones = re.findall(expresión_regular_numeros, contenido, re.DOTALL)\n",
    "\n",
    "    for seccion in secciones:\n",
    "        # Dividir la sección en líneas\n",
    "        lineas = seccion.split('\\n')\n",
    "        for linea in lineas:\n",
    "            numeros = re.findall(r\"(\\d{1,3}(?:'\\d{3})*)\", linea)\n",
    "            if numeros:\n",
    "                for numero in numeros:\n",
    "                    numero_sin_comas = numero.replace(\"'\", '')\n",
    "                    numeros_lista.append(numero_sin_comas)\n",
    "                    archivo_lista.append(nombre_archivo)\n",
    "            else:\n",
    "                numeros_lista.append(\"NA\")\n",
    "                archivo_lista.append(nombre_archivo)\n",
    "\n",
    "# Excluir el primer elemento y los últimos dos elementos de la lista de números\n",
    "numeros_lista = numeros_lista[1:-2]\n",
    "archivo_lista = archivo_lista[1:-2]\n",
    "\n",
    "# Crear un DataFrame a partir de las listas de números y archivos\n",
    "df5 = pd.DataFrame({'Number of parcels, international service - receipt Colombia': numeros_lista})\n",
    "\n",
    "# Mostrar el DataFrame\n",
    "print(df5)"
   ]
  },
  {
   "cell_type": "markdown",
   "metadata": {},
   "source": [
    "### Cartas nacionales"
   ]
  },
  {
   "cell_type": "code",
   "execution_count": 166,
   "metadata": {},
   "outputs": [
    {
     "name": "stdout",
     "output_type": "stream",
     "text": [
      " 2.3 Servicios de entrega de cartas nacionales: número de envíos\n",
      " 2.3 Servicios de entrega de cartas nacionales: número de envíos\n"
     ]
    }
   ],
   "source": [
    "# Directorio que contiene los archivos HTML\n",
    "archivos_html = ['Italia.html', 'Colombia.html']\n",
    "\n",
    "# Patrón regular para buscar el texto\n",
    "patron_texto = r'2.3 Servicios de entrega de cartas nacionales: número de envíos'\n",
    "\n",
    "# Función para buscar el patrón en un archivo HTML\n",
    "def buscar_patron_en_archivo(archivo, patron):\n",
    "    with open(archivo, 'r', encoding='utf-8') as file:\n",
    "        contenido = file.read()\n",
    "        coincidencias = re.findall(patron, contenido)\n",
    "        return coincidencias\n",
    "\n",
    "# Bucle a través de los archivos y buscar el patrón\n",
    "for archivo in archivos_html:\n",
    "    coincidencias = buscar_patron_en_archivo(archivo, patron_texto)\n",
    "    if coincidencias:\n",
    "        for i, coincidencia in enumerate(coincidencias, start=1):\n",
    "            print(f' {coincidencia}')\n",
    "    else:\n",
    "        print(f'No se encontraron coincidencias en {archivo}')\n"
   ]
  },
  {
   "cell_type": "code",
   "execution_count": 157,
   "metadata": {},
   "outputs": [
    {
     "name": "stdout",
     "output_type": "stream",
     "text": [
      "  Servicios de entrega de cartas nacionales: número de envíos Italia\n",
      "0                                                 NA                \n",
      "1                                         3216000000                \n",
      "2                                         2752100000                \n",
      "3                                                 NA                \n",
      "4                                         2229474900                \n"
     ]
    }
   ],
   "source": [
    "import re\n",
    "import pandas as pd\n",
    "\n",
    "# Directorio que contiene los archivos HTML\n",
    "archivos_html = ['Italia.html']\n",
    "\n",
    "# Expresión regular para encontrar las secciones de interés\n",
    "expresión_regular_numeros = r'2.3 Servicios de entrega de cartas nacionales: número de envíos(.*?)<tr valign=\"top&quot;\">'\n",
    "\n",
    "# Listas para almacenar los años, los números y el nombre del archivo\n",
    "numeros_lista = []\n",
    "archivo_lista = []\n",
    "\n",
    "# Bucle para procesar cada archivo\n",
    "for nombre_archivo in archivos_html:\n",
    "    with open(nombre_archivo, 'r', encoding='utf-8') as archivo:\n",
    "        contenido = archivo.read()\n",
    "\n",
    "    # Buscar las secciones de interés en el contenido del archivo\n",
    "    secciones = re.findall(expresión_regular_numeros, contenido, re.DOTALL)\n",
    "\n",
    "    for seccion in secciones:\n",
    "        # Dividir la sección en líneas\n",
    "        lineas = seccion.split('\\n')\n",
    "        for linea in lineas:\n",
    "            numeros = re.findall(r\"(\\d{1,3}(?:'\\d{3})*)\", linea)\n",
    "            if numeros:\n",
    "                for numero in numeros:\n",
    "                    numero_sin_comas = numero.replace(\"'\", '')\n",
    "                    numeros_lista.append(numero_sin_comas)\n",
    "                    archivo_lista.append(nombre_archivo)\n",
    "            else:\n",
    "                numeros_lista.append(\"NA\")\n",
    "                archivo_lista.append(nombre_archivo)\n",
    "\n",
    "# Excluir el primer elemento y los últimos dos elementos de la lista de números\n",
    "numeros_lista = numeros_lista[1:-2]\n",
    "archivo_lista = archivo_lista[1:-2]\n",
    "\n",
    "# Asegurarse de que ambas listas tengan la misma longitud rellenando con NaN si es necesario\n",
    "max_length = max(len(numeros_lista), len(archivo_lista))\n",
    "numeros_lista.extend(['NA'] * (max_length - len(numeros_lista)))\n",
    "archivo_lista.extend(['NA'] * (max_length - len(archivo_lista)))\n",
    "\n",
    "# Crear un DataFrame a partir de las listas de años, números y archivos\n",
    "df1 = pd.DataFrame({'Servicios de entrega de cartas nacionales: número de envíos Italia': numeros_lista})\n",
    "\n",
    "# Mostrar el DataFrame\n",
    "print(df1)\n",
    "\n"
   ]
  },
  {
   "cell_type": "code",
   "execution_count": 158,
   "metadata": {},
   "outputs": [
    {
     "name": "stdout",
     "output_type": "stream",
     "text": [
      "  Servicios de entrega de cartas nacionales: número de envíos Colombia\n",
      "0                                                 NA                  \n",
      "1                                          105309351                  \n",
      "2                                           84300923                  \n",
      "3                                           94491755                  \n",
      "4                                           77407558                  \n"
     ]
    }
   ],
   "source": [
    "# Directorio que contiene los archivos HTML\n",
    "archivos_html = ['Colombia.html']\n",
    "\n",
    "# Expresión regular para encontrar las secciones de interés\n",
    "expresión_regular_numeros = r'Servicios de entrega de cartas nacionales: número de envíos(.*?)<tr valign=\"top&quot;\">'\n",
    "\n",
    "# Listas para almacenar los años, los números y el nombre del archivo\n",
    "numeros_lista = []\n",
    "archivo_lista = []\n",
    "\n",
    "# Bucle para procesar cada archivo\n",
    "for nombre_archivo in archivos_html:\n",
    "    with open(nombre_archivo, 'r', encoding='utf-8') as archivo:\n",
    "        contenido = archivo.read()\n",
    "\n",
    "    # Buscar las secciones de interés en el contenido del archivo\n",
    "    secciones = re.findall(expresión_regular_numeros, contenido, re.DOTALL)\n",
    "\n",
    "    for seccion in secciones:\n",
    "        # Dividir la sección en líneas\n",
    "        lineas = seccion.split('\\n')\n",
    "        for linea in lineas:\n",
    "            numeros = re.findall(r\"(\\d{1,3}(?:'\\d{3})*)\", linea)\n",
    "            if numeros:\n",
    "                for numero in numeros:\n",
    "                    numero_sin_comas = numero.replace(\"'\", '')\n",
    "                    numeros_lista.append(numero_sin_comas)\n",
    "                    archivo_lista.append(nombre_archivo)\n",
    "            else:\n",
    "                numeros_lista.append(\"NA\")\n",
    "                archivo_lista.append(nombre_archivo)\n",
    "\n",
    "# Excluir el primer elemento y los últimos dos elementos de la lista de números\n",
    "numeros_lista = numeros_lista[1:-2]\n",
    "archivo_lista = archivo_lista[1:-2]\n",
    "\n",
    "# Asegurarse de que ambas listas tengan la misma longitud rellenando con NaN si es necesario\n",
    "max_length = max(len(numeros_lista), len(archivo_lista))\n",
    "numeros_lista.extend(['NA'] * (max_length - len(numeros_lista)))\n",
    "archivo_lista.extend(['NA'] * (max_length - len(archivo_lista)))\n",
    "\n",
    "# Crear un DataFrame a partir de las listas de años, números y archivos\n",
    "df2 = pd.DataFrame({'Servicios de entrega de cartas nacionales: número de envíos Colombia': numeros_lista})\n",
    "\n",
    "\n",
    "# Mostrar el DataFrame\n",
    "print(df2)"
   ]
  },
  {
   "cell_type": "markdown",
   "metadata": {},
   "source": [
    "## Limpieza y combinación de Dataframe"
   ]
  },
  {
   "cell_type": "markdown",
   "metadata": {},
   "source": [
    "### Combinar diferentes Dataframes"
   ]
  },
  {
   "cell_type": "markdown",
   "metadata": {},
   "source": [
    "### Combinar Dataframes Italia y Colombia "
   ]
  },
  {
   "cell_type": "code",
   "execution_count": 159,
   "metadata": {},
   "outputs": [
    {
     "name": "stdout",
     "output_type": "stream",
     "text": [
      "   Años Número de paquetes, servicio internacional - despacho Italia  \\\n",
      "0  2017                                             316317             \n",
      "1  2018                                             342724             \n",
      "2  2019                                             328928             \n",
      "3  2020                                             263280             \n",
      "4  2021                                                 NA             \n",
      "\n",
      "  Servicios de entrega de cartas nacionales: número de envíos Italia  \\\n",
      "0                                                 NA                   \n",
      "1                                         3216000000                   \n",
      "2                                         2752100000                   \n",
      "3                                                 NA                   \n",
      "4                                         2229474900                   \n",
      "\n",
      "  Servicios de entrega de cartas nacionales: número de envíos Colombia  \\\n",
      "0                                                 NA                     \n",
      "1                                          105309351                     \n",
      "2                                           84300923                     \n",
      "3                                           94491755                     \n",
      "4                                           77407558                     \n",
      "\n",
      "  Number of parcels, international service - dispatch Colombia  \\\n",
      "0                                             176473             \n",
      "1                                              21008             \n",
      "2                                              13747             \n",
      "3                                              44529             \n",
      "4                                              56531             \n",
      "\n",
      "  Number of parcels, international service - receipt Colombia  \\\n",
      "0                                              26760            \n",
      "1                                              71892            \n",
      "2                                              67463            \n",
      "3                                              63426            \n",
      "4                                               7506            \n",
      "\n",
      "  Número de paquetes, servicio internacional - recibo Italia  \n",
      "0                                             379540          \n",
      "1                                             336313          \n",
      "2                                             327314          \n",
      "3                                             305400          \n",
      "4                                                 NA          \n"
     ]
    }
   ],
   "source": [
    "# Puedes combinar columnas de df1 y df2 en un nuevo DataFrame, df_combinado\n",
    "df_combinado = pd.concat([df4,df1, df2,df3,df5,df6], axis=1)\n",
    "\n",
    "# Ahora, df_combinado contendrá todas las columnas de df1 y df2\n",
    "print(df_combinado)\n"
   ]
  },
  {
   "cell_type": "markdown",
   "metadata": {},
   "source": [
    "### Eliminar años que no se utilizarán "
   ]
  },
  {
   "cell_type": "code",
   "execution_count": 160,
   "metadata": {},
   "outputs": [
    {
     "name": "stdout",
     "output_type": "stream",
     "text": [
      "   Años Número de paquetes, servicio internacional - despacho Italia  \\\n",
      "1  2018                                             342724             \n",
      "2  2019                                             328928             \n",
      "3  2020                                             263280             \n",
      "\n",
      "  Servicios de entrega de cartas nacionales: número de envíos Italia  \\\n",
      "1                                         3216000000                   \n",
      "2                                         2752100000                   \n",
      "3                                                 NA                   \n",
      "\n",
      "  Servicios de entrega de cartas nacionales: número de envíos Colombia  \\\n",
      "1                                          105309351                     \n",
      "2                                           84300923                     \n",
      "3                                           94491755                     \n",
      "\n",
      "  Number of parcels, international service - dispatch Colombia  \\\n",
      "1                                              21008             \n",
      "2                                              13747             \n",
      "3                                              44529             \n",
      "\n",
      "  Number of parcels, international service - receipt Colombia  \\\n",
      "1                                              71892            \n",
      "2                                              67463            \n",
      "3                                              63426            \n",
      "\n",
      "  Número de paquetes, servicio internacional - recibo Italia  \n",
      "1                                             336313          \n",
      "2                                             327314          \n",
      "3                                             305400          \n"
     ]
    }
   ],
   "source": [
    "indices_a_eliminar = [0, 4]\n",
    "df_combinado= df_combinado.drop(indices_a_eliminar)\n",
    "\n",
    "# Mostrar el DataFrame resultante sin las filas en los índices 0 y 4\n",
    "print(df_combinado)"
   ]
  },
  {
   "cell_type": "markdown",
   "metadata": {},
   "source": [
    "### Union de Dataframes de Uruguay con Dataframe Italia y Colombia "
   ]
  },
  {
   "cell_type": "code",
   "execution_count": 161,
   "metadata": {},
   "outputs": [
    {
     "name": "stdout",
     "output_type": "stream",
     "text": [
      "   Años  Cartas nacionales  Paquetes internacionales salientes  \\\n",
      "0  2018           93353275                               44630   \n",
      "1  2019           97023646                               57306   \n",
      "2  2020           85125778                               43172   \n",
      "\n",
      "   Paquetes internacionales entrantes  \\\n",
      "0                              229600   \n",
      "1                              243605   \n",
      "2                              222291   \n",
      "\n",
      "  Número de paquetes, servicio internacional - despacho Italia  \\\n",
      "0                                             342724             \n",
      "1                                             328928             \n",
      "2                                             263280             \n",
      "\n",
      "  Servicios de entrega de cartas nacionales: número de envíos Italia  \\\n",
      "0                                         3216000000                   \n",
      "1                                         2752100000                   \n",
      "2                                                 NA                   \n",
      "\n",
      "  Servicios de entrega de cartas nacionales: número de envíos Colombia  \\\n",
      "0                                          105309351                     \n",
      "1                                           84300923                     \n",
      "2                                           94491755                     \n",
      "\n",
      "  Number of parcels, international service - dispatch Colombia  \\\n",
      "0                                              21008             \n",
      "1                                              13747             \n",
      "2                                              44529             \n",
      "\n",
      "  Number of parcels, international service - receipt Colombia  \\\n",
      "0                                              71892            \n",
      "1                                              67463            \n",
      "2                                              63426            \n",
      "\n",
      "  Número de paquetes, servicio internacional - recibo Italia  \n",
      "0                                             336313          \n",
      "1                                             327314          \n",
      "2                                             305400          \n"
     ]
    }
   ],
   "source": [
    "# Convertir la columna \"Años\" a tipo int64 en ambos DataFrames\n",
    "df_uy['Años'] = df_uy['Años'].astype(int)\n",
    "df_combinado['Años'] = df_combinado['Años'].astype(int)\n",
    "\n",
    "# Unir df_uy y df_combinado en función de la columna \"Años\"\n",
    "df_unido = df_uy.merge(df_combinado, on='Años')\n",
    "\n",
    "print(df_unido)"
   ]
  },
  {
   "cell_type": "markdown",
   "metadata": {},
   "source": [
    "## Data Frame final "
   ]
  },
  {
   "cell_type": "code",
   "execution_count": 162,
   "metadata": {},
   "outputs": [
    {
     "data": {
      "text/html": [
       "<div>\n",
       "<style scoped>\n",
       "    .dataframe tbody tr th:only-of-type {\n",
       "        vertical-align: middle;\n",
       "    }\n",
       "\n",
       "    .dataframe tbody tr th {\n",
       "        vertical-align: top;\n",
       "    }\n",
       "\n",
       "    .dataframe thead th {\n",
       "        text-align: right;\n",
       "    }\n",
       "</style>\n",
       "<table border=\"1\" class=\"dataframe\">\n",
       "  <thead>\n",
       "    <tr style=\"text-align: right;\">\n",
       "      <th></th>\n",
       "      <th>Año</th>\n",
       "      <th>Cartas Nacionales Uruguay</th>\n",
       "      <th>Paquetes internacionales salientes Uruguay</th>\n",
       "      <th>Paquetes internacionales entrantes Uruguay</th>\n",
       "      <th>Paquetes internacionales salientes Italia</th>\n",
       "      <th>Cartas Nacionales Italia</th>\n",
       "      <th>Cartas Nacionales Colombia</th>\n",
       "      <th>Paquetes internacionales salientes Colombia</th>\n",
       "      <th>Paquetes internacionales entrantes Colombia</th>\n",
       "      <th>Paquetes internacionales entrantes Italia</th>\n",
       "    </tr>\n",
       "  </thead>\n",
       "  <tbody>\n",
       "    <tr>\n",
       "      <th>0</th>\n",
       "      <td>2018</td>\n",
       "      <td>93353275</td>\n",
       "      <td>44630</td>\n",
       "      <td>229600</td>\n",
       "      <td>342724</td>\n",
       "      <td>3216000000</td>\n",
       "      <td>105309351</td>\n",
       "      <td>21008</td>\n",
       "      <td>71892</td>\n",
       "      <td>336313</td>\n",
       "    </tr>\n",
       "    <tr>\n",
       "      <th>1</th>\n",
       "      <td>2019</td>\n",
       "      <td>97023646</td>\n",
       "      <td>57306</td>\n",
       "      <td>243605</td>\n",
       "      <td>328928</td>\n",
       "      <td>2752100000</td>\n",
       "      <td>84300923</td>\n",
       "      <td>13747</td>\n",
       "      <td>67463</td>\n",
       "      <td>327314</td>\n",
       "    </tr>\n",
       "    <tr>\n",
       "      <th>2</th>\n",
       "      <td>2020</td>\n",
       "      <td>85125778</td>\n",
       "      <td>43172</td>\n",
       "      <td>222291</td>\n",
       "      <td>263280</td>\n",
       "      <td>NA</td>\n",
       "      <td>94491755</td>\n",
       "      <td>44529</td>\n",
       "      <td>63426</td>\n",
       "      <td>305400</td>\n",
       "    </tr>\n",
       "  </tbody>\n",
       "</table>\n",
       "</div>"
      ],
      "text/plain": [
       "    Año  Cartas Nacionales Uruguay  \\\n",
       "0  2018                   93353275   \n",
       "1  2019                   97023646   \n",
       "2  2020                   85125778   \n",
       "\n",
       "   Paquetes internacionales salientes Uruguay  \\\n",
       "0                                       44630   \n",
       "1                                       57306   \n",
       "2                                       43172   \n",
       "\n",
       "   Paquetes internacionales entrantes Uruguay  \\\n",
       "0                                      229600   \n",
       "1                                      243605   \n",
       "2                                      222291   \n",
       "\n",
       "  Paquetes internacionales salientes Italia Cartas Nacionales Italia  \\\n",
       "0                                    342724               3216000000   \n",
       "1                                    328928               2752100000   \n",
       "2                                    263280                       NA   \n",
       "\n",
       "  Cartas Nacionales Colombia Paquetes internacionales salientes Colombia  \\\n",
       "0                  105309351                                       21008   \n",
       "1                   84300923                                       13747   \n",
       "2                   94491755                                       44529   \n",
       "\n",
       "  Paquetes internacionales entrantes Colombia  \\\n",
       "0                                       71892   \n",
       "1                                       67463   \n",
       "2                                       63426   \n",
       "\n",
       "  Paquetes internacionales entrantes Italia  \n",
       "0                                    336313  \n",
       "1                                    327314  \n",
       "2                                    305400  "
      ]
     },
     "execution_count": 162,
     "metadata": {},
     "output_type": "execute_result"
    }
   ],
   "source": [
    "# Renombrar las columnas\n",
    "df_final = df_unido.rename(columns={\n",
    "    'Años': 'Año',\n",
    "    'Cartas nacionales': 'Cartas Nacionales Uruguay',\n",
    "    'Paquetes internacionales salientes': 'Paquetes internacionales salientes Uruguay',\n",
    "    'Paquetes internacionales entrantes': 'Paquetes internacionales entrantes Uruguay',\n",
    "    'Número de paquetes, servicio internacional - despacho Italia': 'Paquetes internacionales salientes Italia',\n",
    "    'Servicios de entrega de cartas nacionales: número de envíos Italia': 'Cartas Nacionales Italia',\n",
    "    'Servicios de entrega de cartas nacionales: número de envíos Colombia': 'Cartas Nacionales Colombia',\n",
    "    'Number of parcels, international service - dispatch Colombia': 'Paquetes internacionales salientes Colombia',\n",
    "    'Number of parcels, international service - receipt Colombia': 'Paquetes internacionales entrantes Colombia',\n",
    "    'Número de paquetes, servicio internacional - recibo Italia': 'Paquetes internacionales entrantes Italia',\n",
    "})\n",
    "\n",
    "df_final"
   ]
  },
  {
   "cell_type": "markdown",
   "metadata": {},
   "source": [
    "## Muestra datos en gráficos"
   ]
  },
  {
   "cell_type": "code",
   "execution_count": 163,
   "metadata": {},
   "outputs": [
    {
     "data": {
      "image/png": "[encoded data removed]",
      "text/plain": [
       "<Figure size 1000x600 with 1 Axes>"
      ]
     },
     "metadata": {},
     "output_type": "display_data"
    }
   ],
   "source": [
    "# Título del gráfico\n",
    "titulo = 'Tendencia del correo postal durante el Covid-19 en Colombia e Italia y Uruguay'\n",
    "\n",
    "# Crear un gráfico de tendencia\n",
    "plt.figure(figsize=(10, 6))\n",
    "plt.plot(df_final['Año'], df_final['Cartas Nacionales Uruguay'], label='Cartas Nacionales Uruguay', marker='o')\n",
    "plt.plot(df_final['Año'], df_final['Cartas Nacionales Italia'], label='Cartas Nacionales Italia', marker='o')\n",
    "plt.plot(df_final['Año'], df_final['Cartas Nacionales Colombia'], label='Cartas Nacionales Colombia', marker='o')\n",
    "\n",
    "\n",
    "# Configuración del gráfico\n",
    "plt.xlabel('Año')\n",
    "plt.ylabel('Cantidad')\n",
    "plt.title(titulo)\n",
    "plt.grid(True)\n",
    "plt.legend()\n",
    "plt.xticks(df_final['Año'])\n",
    "plt.tight_layout()\n",
    "\n",
    "# Mostrar el gráfico\n",
    "plt.show()"
   ]
  },
  {
   "cell_type": "code",
   "execution_count": 164,
   "metadata": {},
   "outputs": [
    {
     "data": {
      "image/png": "[encoded data removed]",
      "text/plain": [
       "<Figure size 1000x600 with 1 Axes>"
      ]
     },
     "metadata": {},
     "output_type": "display_data"
    }
   ],
   "source": [
    "import matplotlib.pyplot as plt\n",
    "\n",
    "# Título del gráfico\n",
    "titulo = 'Tendencia del correo postal durante el Covid-19 en Colombia e Italia y Uruguay'\n",
    "\n",
    "# Crear un gráfico de tendencia\n",
    "plt.figure(figsize=(10, 6))\n",
    "\n",
    "plt.plot(df_final['Año'], df_final['Paquetes internacionales salientes Uruguay'], label='Paquetes internacionales salientes Uruguay', marker='o')\n",
    "plt.plot(df_final['Año'], df_final['Paquetes internacionales salientes Italia'], label='Paquetes internacionales salientes Italia', marker='o')\n",
    "plt.plot(df_final['Año'], df_final['Paquetes internacionales salientes Colombia'], label='Paquetes internacionales salientes Colombia', marker='o')\n",
    "\n",
    "# Configuración del gráfico\n",
    "plt.xlabel('Año')\n",
    "plt.ylabel('Cantidad')\n",
    "plt.title(titulo)\n",
    "plt.grid(True)\n",
    "plt.legend()\n",
    "plt.xticks(df_final['Año'])\n",
    "plt.tight_layout()\n",
    "\n",
    "# Mostrar el gráfico\n",
    "plt.show()"
   ]
  },
  {
   "cell_type": "code",
   "execution_count": 165,
   "metadata": {},
   "outputs": [
    {
     "data": {
      "image/png": "[encoded data removed]",
      "text/plain": [
       "<Figure size 1000x600 with 1 Axes>"
      ]
     },
     "metadata": {},
     "output_type": "display_data"
    }
   ],
   "source": [
    "import matplotlib.pyplot as plt\n",
    "\n",
    "# Título del gráfico\n",
    "titulo = 'Tendencia del correo postal durante el Covid-19 en Colombia e Italia y Uruguay'\n",
    "\n",
    "# Crear un gráfico de tendencia\n",
    "plt.figure(figsize=(10, 6))\n",
    "\n",
    "plt.plot(df_final['Año'], df_final['Paquetes internacionales entrantes Colombia'], label='Paquetes internacionales entrantes Colombia', marker='o')\n",
    "plt.plot(df_final['Año'], df_final['Paquetes internacionales entrantes Italia'], label='Paquetes internacionales entrantes Italia', marker='o')\n",
    "plt.plot(df_final['Año'], df_final['Paquetes internacionales entrantes Uruguay'], label='Paquetes internacionales entrantes Uruguay', marker='o')\n",
    "\n",
    "# Configuración del gráfico\n",
    "plt.xlabel('Año')\n",
    "plt.ylabel('Cantidad')\n",
    "plt.title(titulo)\n",
    "plt.grid(True)\n",
    "plt.legend()\n",
    "plt.xticks(df_final['Año'])\n",
    "plt.tight_layout()\n",
    "\n",
    "# Mostrar el gráfico\n",
    "plt.show()"
   ]
  }
 ],
 "metadata": {
  "kernelspec": {
   "display_name": "Python 3",
   "language": "python",
   "name": "python3"
  },
  "language_info": {
   "codemirror_mode": {
    "name": "ipython",
    "version": 3
   },
   "file_extension": ".py",
   "mimetype": "text/x-python",
   "name": "python",
   "nbconvert_exporter": "python",
   "pygments_lexer": "ipython3",
   "version": "3.11.3"
  },
  "orig_nbformat": 4
 },
 "nbformat": 4,
 "nbformat_minor": 2
}
